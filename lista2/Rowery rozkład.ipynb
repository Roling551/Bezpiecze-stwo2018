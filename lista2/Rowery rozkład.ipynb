{
 "cells": [
  {
   "cell_type": "code",
   "execution_count": 296,
   "metadata": {},
   "outputs": [],
   "source": [
    "import pandas\n",
    "import matplotlib\n",
    "import scipy.stats"
   ]
  },
  {
   "cell_type": "code",
   "execution_count": 188,
   "metadata": {},
   "outputs": [],
   "source": [
    "%matplotlib inline"
   ]
  },
  {
   "cell_type": "code",
   "execution_count": 189,
   "metadata": {},
   "outputs": [],
   "source": [
    "data = pandas.read_csv('rowery2.csv')"
   ]
  },
  {
   "cell_type": "code",
   "execution_count": 190,
   "metadata": {},
   "outputs": [],
   "source": [
    "data = data.drop(columns=['Data', 'Godzina', 'Stacja', 'nr roweru'])"
   ]
  },
  {
   "cell_type": "code",
   "execution_count": 191,
   "metadata": {},
   "outputs": [],
   "source": [
    "data = data[data.apply(lambda x: x['Czy zapiecie elektroniczne'] != x['Czy zapiecie cyfrowe'], axis=1)]"
   ]
  },
  {
   "cell_type": "code",
   "execution_count": 192,
   "metadata": {},
   "outputs": [],
   "source": [
    "data = data.drop(columns=['Czy zapiecie elektroniczne'])"
   ]
  },
  {
   "cell_type": "code",
   "execution_count": 276,
   "metadata": {},
   "outputs": [],
   "source": [
    "def getNthDigit(x,n):\n",
    "    return math.floor((x/(10**n))%10)\n",
    "\n",
    "data['p1'] = data.apply(lambda x: (getNthDigit(x['Pozostawiony kod'],3)-getNthDigit(x['Kod do otwarcia'],3))%10, axis=1)\n",
    "data['p2'] = data.apply(lambda x: (getNthDigit(x['Pozostawiony kod'],2)-getNthDigit(x['Kod do otwarcia'],2))%10, axis=1)\n",
    "data['p3'] = data.apply(lambda x: (getNthDigit(x['Pozostawiony kod'],1)-getNthDigit(x['Kod do otwarcia'],1))%10, axis=1)\n",
    "data['p4'] = data.apply(lambda x: (getNthDigit(x['Pozostawiony kod'],0)-getNthDigit(x['Kod do otwarcia'],0))%10, axis=1)"
   ]
  },
  {
   "cell_type": "code",
   "execution_count": 277,
   "metadata": {},
   "outputs": [],
   "source": [
    "data = data.sort_values(['Czy zapiecie cyfrowe','p1','p2','p3','p4'])"
   ]
  },
  {
   "cell_type": "code",
   "execution_count": 278,
   "metadata": {},
   "outputs": [
    {
     "data": {
      "text/html": [
       "<div>\n",
       "<style scoped>\n",
       "    .dataframe tbody tr th:only-of-type {\n",
       "        vertical-align: middle;\n",
       "    }\n",
       "\n",
       "    .dataframe tbody tr th {\n",
       "        vertical-align: top;\n",
       "    }\n",
       "\n",
       "    .dataframe thead th {\n",
       "        text-align: right;\n",
       "    }\n",
       "</style>\n",
       "<table border=\"1\" class=\"dataframe\">\n",
       "  <thead>\n",
       "    <tr style=\"text-align: right;\">\n",
       "      <th></th>\n",
       "      <th>Kod do otwarcia</th>\n",
       "      <th>Pozostawiony kod</th>\n",
       "      <th>Czy zapiecie cyfrowe</th>\n",
       "      <th>p1</th>\n",
       "      <th>p2</th>\n",
       "      <th>p3</th>\n",
       "      <th>p4</th>\n",
       "    </tr>\n",
       "  </thead>\n",
       "  <tbody>\n",
       "    <tr>\n",
       "      <th>18</th>\n",
       "      <td>2506</td>\n",
       "      <td>2506</td>\n",
       "      <td>F</td>\n",
       "      <td>0</td>\n",
       "      <td>0</td>\n",
       "      <td>0</td>\n",
       "      <td>0</td>\n",
       "    </tr>\n",
       "    <tr>\n",
       "      <th>25</th>\n",
       "      <td>1181</td>\n",
       "      <td>1181</td>\n",
       "      <td>F</td>\n",
       "      <td>0</td>\n",
       "      <td>0</td>\n",
       "      <td>0</td>\n",
       "      <td>0</td>\n",
       "    </tr>\n",
       "    <tr>\n",
       "      <th>26</th>\n",
       "      <td>1713</td>\n",
       "      <td>1715</td>\n",
       "      <td>F</td>\n",
       "      <td>0</td>\n",
       "      <td>0</td>\n",
       "      <td>0</td>\n",
       "      <td>2</td>\n",
       "    </tr>\n",
       "    <tr>\n",
       "      <th>24</th>\n",
       "      <td>8257</td>\n",
       "      <td>8272</td>\n",
       "      <td>F</td>\n",
       "      <td>0</td>\n",
       "      <td>0</td>\n",
       "      <td>2</td>\n",
       "      <td>5</td>\n",
       "    </tr>\n",
       "    <tr>\n",
       "      <th>29</th>\n",
       "      <td>2900</td>\n",
       "      <td>2120</td>\n",
       "      <td>F</td>\n",
       "      <td>0</td>\n",
       "      <td>2</td>\n",
       "      <td>2</td>\n",
       "      <td>0</td>\n",
       "    </tr>\n",
       "    <tr>\n",
       "      <th>3</th>\n",
       "      <td>3462</td>\n",
       "      <td>3792</td>\n",
       "      <td>F</td>\n",
       "      <td>0</td>\n",
       "      <td>3</td>\n",
       "      <td>3</td>\n",
       "      <td>0</td>\n",
       "    </tr>\n",
       "    <tr>\n",
       "      <th>21</th>\n",
       "      <td>4040</td>\n",
       "      <td>4604</td>\n",
       "      <td>F</td>\n",
       "      <td>0</td>\n",
       "      <td>6</td>\n",
       "      <td>6</td>\n",
       "      <td>4</td>\n",
       "    </tr>\n",
       "    <tr>\n",
       "      <th>2</th>\n",
       "      <td>9532</td>\n",
       "      <td>9201</td>\n",
       "      <td>F</td>\n",
       "      <td>0</td>\n",
       "      <td>7</td>\n",
       "      <td>7</td>\n",
       "      <td>9</td>\n",
       "    </tr>\n",
       "    <tr>\n",
       "      <th>22</th>\n",
       "      <td>9454</td>\n",
       "      <td>9344</td>\n",
       "      <td>F</td>\n",
       "      <td>0</td>\n",
       "      <td>9</td>\n",
       "      <td>9</td>\n",
       "      <td>0</td>\n",
       "    </tr>\n",
       "    <tr>\n",
       "      <th>28</th>\n",
       "      <td>9503</td>\n",
       "      <td>1202</td>\n",
       "      <td>F</td>\n",
       "      <td>2</td>\n",
       "      <td>7</td>\n",
       "      <td>0</td>\n",
       "      <td>9</td>\n",
       "    </tr>\n",
       "    <tr>\n",
       "      <th>20</th>\n",
       "      <td>8988</td>\n",
       "      <td>1953</td>\n",
       "      <td>F</td>\n",
       "      <td>3</td>\n",
       "      <td>0</td>\n",
       "      <td>7</td>\n",
       "      <td>5</td>\n",
       "    </tr>\n",
       "    <tr>\n",
       "      <th>19</th>\n",
       "      <td>4152</td>\n",
       "      <td>7582</td>\n",
       "      <td>F</td>\n",
       "      <td>3</td>\n",
       "      <td>4</td>\n",
       "      <td>3</td>\n",
       "      <td>0</td>\n",
       "    </tr>\n",
       "    <tr>\n",
       "      <th>23</th>\n",
       "      <td>3953</td>\n",
       "      <td>1598</td>\n",
       "      <td>F</td>\n",
       "      <td>8</td>\n",
       "      <td>6</td>\n",
       "      <td>4</td>\n",
       "      <td>5</td>\n",
       "    </tr>\n",
       "    <tr>\n",
       "      <th>1</th>\n",
       "      <td>1870</td>\n",
       "      <td>9646</td>\n",
       "      <td>F</td>\n",
       "      <td>8</td>\n",
       "      <td>8</td>\n",
       "      <td>7</td>\n",
       "      <td>6</td>\n",
       "    </tr>\n",
       "    <tr>\n",
       "      <th>27</th>\n",
       "      <td>7354</td>\n",
       "      <td>6023</td>\n",
       "      <td>F</td>\n",
       "      <td>9</td>\n",
       "      <td>7</td>\n",
       "      <td>7</td>\n",
       "      <td>9</td>\n",
       "    </tr>\n",
       "    <tr>\n",
       "      <th>4</th>\n",
       "      <td>6332</td>\n",
       "      <td>6330</td>\n",
       "      <td>T</td>\n",
       "      <td>0</td>\n",
       "      <td>0</td>\n",
       "      <td>0</td>\n",
       "      <td>8</td>\n",
       "    </tr>\n",
       "    <tr>\n",
       "      <th>11</th>\n",
       "      <td>7236</td>\n",
       "      <td>7270</td>\n",
       "      <td>T</td>\n",
       "      <td>0</td>\n",
       "      <td>0</td>\n",
       "      <td>4</td>\n",
       "      <td>4</td>\n",
       "    </tr>\n",
       "    <tr>\n",
       "      <th>5</th>\n",
       "      <td>5903</td>\n",
       "      <td>5978</td>\n",
       "      <td>T</td>\n",
       "      <td>0</td>\n",
       "      <td>0</td>\n",
       "      <td>7</td>\n",
       "      <td>5</td>\n",
       "    </tr>\n",
       "    <tr>\n",
       "      <th>17</th>\n",
       "      <td>1744</td>\n",
       "      <td>1843</td>\n",
       "      <td>T</td>\n",
       "      <td>0</td>\n",
       "      <td>1</td>\n",
       "      <td>0</td>\n",
       "      <td>9</td>\n",
       "    </tr>\n",
       "    <tr>\n",
       "      <th>8</th>\n",
       "      <td>5552</td>\n",
       "      <td>5321</td>\n",
       "      <td>T</td>\n",
       "      <td>0</td>\n",
       "      <td>8</td>\n",
       "      <td>7</td>\n",
       "      <td>9</td>\n",
       "    </tr>\n",
       "    <tr>\n",
       "      <th>0</th>\n",
       "      <td>8589</td>\n",
       "      <td>8479</td>\n",
       "      <td>T</td>\n",
       "      <td>0</td>\n",
       "      <td>9</td>\n",
       "      <td>9</td>\n",
       "      <td>0</td>\n",
       "    </tr>\n",
       "    <tr>\n",
       "      <th>10</th>\n",
       "      <td>6716</td>\n",
       "      <td>6606</td>\n",
       "      <td>T</td>\n",
       "      <td>0</td>\n",
       "      <td>9</td>\n",
       "      <td>9</td>\n",
       "      <td>0</td>\n",
       "    </tr>\n",
       "    <tr>\n",
       "      <th>9</th>\n",
       "      <td>1865</td>\n",
       "      <td>2864</td>\n",
       "      <td>T</td>\n",
       "      <td>1</td>\n",
       "      <td>0</td>\n",
       "      <td>0</td>\n",
       "      <td>9</td>\n",
       "    </tr>\n",
       "    <tr>\n",
       "      <th>6</th>\n",
       "      <td>5264</td>\n",
       "      <td>6387</td>\n",
       "      <td>T</td>\n",
       "      <td>1</td>\n",
       "      <td>1</td>\n",
       "      <td>2</td>\n",
       "      <td>3</td>\n",
       "    </tr>\n",
       "    <tr>\n",
       "      <th>12</th>\n",
       "      <td>3357</td>\n",
       "      <td>4437</td>\n",
       "      <td>T</td>\n",
       "      <td>1</td>\n",
       "      <td>1</td>\n",
       "      <td>8</td>\n",
       "      <td>0</td>\n",
       "    </tr>\n",
       "    <tr>\n",
       "      <th>15</th>\n",
       "      <td>5578</td>\n",
       "      <td>6829</td>\n",
       "      <td>T</td>\n",
       "      <td>1</td>\n",
       "      <td>3</td>\n",
       "      <td>5</td>\n",
       "      <td>1</td>\n",
       "    </tr>\n",
       "    <tr>\n",
       "      <th>7</th>\n",
       "      <td>7873</td>\n",
       "      <td>9095</td>\n",
       "      <td>T</td>\n",
       "      <td>2</td>\n",
       "      <td>2</td>\n",
       "      <td>2</td>\n",
       "      <td>2</td>\n",
       "    </tr>\n",
       "    <tr>\n",
       "      <th>14</th>\n",
       "      <td>9966</td>\n",
       "      <td>1318</td>\n",
       "      <td>T</td>\n",
       "      <td>2</td>\n",
       "      <td>4</td>\n",
       "      <td>5</td>\n",
       "      <td>2</td>\n",
       "    </tr>\n",
       "    <tr>\n",
       "      <th>16</th>\n",
       "      <td>3328</td>\n",
       "      <td>6520</td>\n",
       "      <td>T</td>\n",
       "      <td>3</td>\n",
       "      <td>2</td>\n",
       "      <td>0</td>\n",
       "      <td>2</td>\n",
       "    </tr>\n",
       "    <tr>\n",
       "      <th>13</th>\n",
       "      <td>2786</td>\n",
       "      <td>5153</td>\n",
       "      <td>T</td>\n",
       "      <td>3</td>\n",
       "      <td>4</td>\n",
       "      <td>7</td>\n",
       "      <td>7</td>\n",
       "    </tr>\n",
       "  </tbody>\n",
       "</table>\n",
       "</div>"
      ],
      "text/plain": [
       "    Kod do otwarcia  Pozostawiony kod Czy zapiecie cyfrowe  p1  p2  p3  p4\n",
       "18             2506              2506                    F   0   0   0   0\n",
       "25             1181              1181                    F   0   0   0   0\n",
       "26             1713              1715                    F   0   0   0   2\n",
       "24             8257              8272                    F   0   0   2   5\n",
       "29             2900              2120                    F   0   2   2   0\n",
       "3              3462              3792                    F   0   3   3   0\n",
       "21             4040              4604                    F   0   6   6   4\n",
       "2              9532              9201                    F   0   7   7   9\n",
       "22             9454              9344                    F   0   9   9   0\n",
       "28             9503              1202                    F   2   7   0   9\n",
       "20             8988              1953                    F   3   0   7   5\n",
       "19             4152              7582                    F   3   4   3   0\n",
       "23             3953              1598                    F   8   6   4   5\n",
       "1              1870              9646                    F   8   8   7   6\n",
       "27             7354              6023                    F   9   7   7   9\n",
       "4              6332              6330                    T   0   0   0   8\n",
       "11             7236              7270                    T   0   0   4   4\n",
       "5              5903              5978                    T   0   0   7   5\n",
       "17             1744              1843                    T   0   1   0   9\n",
       "8              5552              5321                    T   0   8   7   9\n",
       "0              8589              8479                    T   0   9   9   0\n",
       "10             6716              6606                    T   0   9   9   0\n",
       "9              1865              2864                    T   1   0   0   9\n",
       "6              5264              6387                    T   1   1   2   3\n",
       "12             3357              4437                    T   1   1   8   0\n",
       "15             5578              6829                    T   1   3   5   1\n",
       "7              7873              9095                    T   2   2   2   2\n",
       "14             9966              1318                    T   2   4   5   2\n",
       "16             3328              6520                    T   3   2   0   2\n",
       "13             2786              5153                    T   3   4   7   7"
      ]
     },
     "execution_count": 278,
     "metadata": {},
     "output_type": "execute_result"
    }
   ],
   "source": [
    "data"
   ]
  },
  {
   "cell_type": "code",
   "execution_count": 279,
   "metadata": {},
   "outputs": [],
   "source": [
    "data1 = data[data['Czy zapiecie cyfrowe'] == 'T']\n",
    "data2 = data[data['Czy zapiecie cyfrowe'] == 'F']"
   ]
  },
  {
   "cell_type": "code",
   "execution_count": 288,
   "metadata": {},
   "outputs": [
    {
     "data": {
      "image/png": "[encoded data removed]",
      "text/plain": [
       "<matplotlib.figure.Figure at 0x21ae17c0be0>"
      ]
     },
     "metadata": {},
     "output_type": "display_data"
    }
   ],
   "source": [
    "matplotlib.pyplot.subplot(4, 1, 1)\n",
    "(data.apply(lambda x: getNthDigit(x['Pozostawiony kod'],3),axis=1).value_counts()+pandas.Series([0]*10)).fillna(0).plot(kind='bar')\n",
    "matplotlib.pyplot.subplot(4, 1, 2)\n",
    "(data.apply(lambda x: getNthDigit(x['Pozostawiony kod'],2),axis=1).value_counts()+pandas.Series([0]*10)).fillna(0).plot(kind='bar')\n",
    "matplotlib.pyplot.subplot(4, 1, 3)\n",
    "(data.apply(lambda x: getNthDigit(x['Pozostawiony kod'],1),axis=1).value_counts()+pandas.Series([0]*10)).fillna(0).plot(kind='bar')\n",
    "matplotlib.pyplot.subplot(4, 1, 4)\n",
    "(data.apply(lambda x: getNthDigit(x['Pozostawiony kod'],0),axis=1).value_counts()+pandas.Series([0]*10)).fillna(0).plot(kind='bar')\n",
    "matplotlib.pyplot.show()"
   ]
  },
  {
   "cell_type": "code",
   "execution_count": 287,
   "metadata": {},
   "outputs": [
    {
     "data": {
      "image/png": "[encoded data removed]",
      "text/plain": [
       "<matplotlib.figure.Figure at 0x21ae1829438>"
      ]
     },
     "metadata": {},
     "output_type": "display_data"
    }
   ],
   "source": [
    "matplotlib.pyplot.subplot(4, 1, 1)\n",
    "(data.apply(lambda x: getNthDigit(x['Kod do otwarcia'],3),axis=1).value_counts()+pandas.Series([0]*10)).fillna(0).plot(kind='bar')\n",
    "matplotlib.pyplot.subplot(4, 1, 2)\n",
    "(data.apply(lambda x: getNthDigit(x['Kod do otwarcia'],2),axis=1).value_counts()+pandas.Series([0]*10)).fillna(0).plot(kind='bar')\n",
    "matplotlib.pyplot.subplot(4, 1, 3)\n",
    "(data.apply(lambda x: getNthDigit(x['Kod do otwarcia'],1),axis=1).value_counts()+pandas.Series([0]*10)).fillna(0).plot(kind='bar')\n",
    "matplotlib.pyplot.subplot(4, 1, 4)\n",
    "(data.apply(lambda x: getNthDigit(x['Kod do otwarcia'],0),axis=1).value_counts()+pandas.Series([0]*10)).fillna(0).plot(kind='bar')\n",
    "matplotlib.pyplot.show()"
   ]
  },
  {
   "cell_type": "code",
   "execution_count": 204,
   "metadata": {},
   "outputs": [
    {
     "data": {
      "image/png": "[encoded data removed]",
      "text/plain": [
       "<matplotlib.figure.Figure at 0x21ae073d5f8>"
      ]
     },
     "metadata": {},
     "output_type": "display_data"
    }
   ],
   "source": [
    "matplotlib.pyplot.subplot(4, 1, 1)\n",
    "(pandas.Series([0,0,0,0,0,0,0,0,0,0])+data1.p1.value_counts()).fillna(0).plot(kind='bar')\n",
    "matplotlib.pyplot.subplot(4, 1, 2)\n",
    "(pandas.Series([0,0,0,0,0,0,0,0,0,0])+data1.p2.value_counts()).fillna(0).plot(kind='bar')\n",
    "matplotlib.pyplot.subplot(4, 1, 3)\n",
    "(pandas.Series([0,0,0,0,0,0,0,0,0,0])+data1.p3.value_counts()).fillna(0).plot(kind='bar')\n",
    "matplotlib.pyplot.subplot(4, 1, 4)\n",
    "(pandas.Series([0,0,0,0,0,0,0,0,0,0])+data1.p4.value_counts()).fillna(0).plot(kind='bar')\n",
    "matplotlib.pyplot.show()"
   ]
  },
  {
   "cell_type": "code",
   "execution_count": 205,
   "metadata": {},
   "outputs": [
    {
     "data": {
      "image/png": "[encoded data removed]",
      "text/plain": [
       "<matplotlib.figure.Figure at 0x21ae077bb70>"
      ]
     },
     "metadata": {},
     "output_type": "display_data"
    }
   ],
   "source": [
    "matplotlib.pyplot.subplot(4, 1, 1)\n",
    "(pandas.Series([0,0,0,0,0,0,0,0,0,0])+data2.p1.value_counts()).fillna(0).plot(kind='bar')\n",
    "matplotlib.pyplot.subplot(4, 1, 2)\n",
    "(pandas.Series([0,0,0,0,0,0,0,0,0,0])+data2.p2.value_counts()).fillna(0).plot(kind='bar')\n",
    "matplotlib.pyplot.subplot(4, 1, 3)\n",
    "(pandas.Series([0,0,0,0,0,0,0,0,0,0])+data2.p3.value_counts()).fillna(0).plot(kind='bar')\n",
    "matplotlib.pyplot.subplot(4, 1, 4)\n",
    "(pandas.Series([0,0,0,0,0,0,0,0,0,0])+data2.p4.value_counts()).fillna(0).plot(kind='bar')\n",
    "matplotlib.pyplot.show()"
   ]
  },
  {
   "cell_type": "code",
   "execution_count": 227,
   "metadata": {},
   "outputs": [],
   "source": [
    "def find_distance(x,y,n):\n",
    "    return min((x-y)%n,(y-x)%n)\n"
   ]
  },
  {
   "cell_type": "code",
   "execution_count": 243,
   "metadata": {},
   "outputs": [
    {
     "data": {
      "image/png": "[encoded data removed]",
      "text/plain": [
       "<matplotlib.figure.Figure at 0x21ae04c4f98>"
      ]
     },
     "metadata": {},
     "output_type": "display_data"
    }
   ],
   "source": [
    "matplotlib.pyplot.subplot(3, 1, 1)\n",
    "(pandas.Series([0,0,0,0,0,0])+data1.apply(lambda x:find_distance(x.p1,x.p2,10), axis=1).value_counts()).fillna(0).sort_index().plot(kind='bar')\n",
    "matplotlib.pyplot.subplot(3, 1, 2)\n",
    "(pandas.Series([0,0,0,0,0,0])+data1.apply(lambda x:find_distance(x.p2,x.p3,10), axis=1).value_counts()).fillna(0).sort_index().plot(kind='bar')\n",
    "matplotlib.pyplot.subplot(3, 1, 3)\n",
    "(pandas.Series([0,0,0,0,0,0])+data1.apply(lambda x:find_distance(x.p3,x.p4,10), axis=1).value_counts()).fillna(0).sort_index().plot(kind='bar')\n",
    "matplotlib.pyplot.show()"
   ]
  },
  {
   "cell_type": "code",
   "execution_count": 244,
   "metadata": {},
   "outputs": [
    {
     "data": {
      "image/png": "[encoded data removed]",
      "text/plain": [
       "<matplotlib.figure.Figure at 0x21ae0476390>"
      ]
     },
     "metadata": {},
     "output_type": "display_data"
    }
   ],
   "source": [
    "matplotlib.pyplot.subplot(3, 1, 1)\n",
    "(pandas.Series([0,0,0,0,0,0])+data2.apply(lambda x:find_distance(x.p1,x.p2,10), axis=1).value_counts()).fillna(0).sort_index().plot(kind='bar')\n",
    "matplotlib.pyplot.subplot(3, 1, 2)\n",
    "(pandas.Series([0,0,0,0,0,0])+data2.apply(lambda x:find_distance(x.p2,x.p3,10), axis=1).value_counts()).fillna(0).sort_index().plot(kind='bar')\n",
    "matplotlib.pyplot.subplot(3, 1, 3)\n",
    "(pandas.Series([0,0,0,0,0,0])+data2.apply(lambda x:find_distance(x.p3,x.p4,10), axis=1).value_counts()).fillna(0).sort_index().plot(kind='bar')\n",
    "matplotlib.pyplot.show()"
   ]
  },
  {
   "cell_type": "code",
   "execution_count": 271,
   "metadata": {},
   "outputs": [
    {
     "data": {
      "image/png": "[encoded data removed]",
      "text/plain": [
       "<matplotlib.figure.Figure at 0x21ae17ee0b8>"
      ]
     },
     "metadata": {},
     "output_type": "display_data"
    }
   ],
   "source": [
    "sum_dist = lambda x:find_distance(x.p1,0,10)+find_distance(x.p2,0,10)+find_distance(x.p3,0,10)+find_distance(x.p4,0,10)\n",
    "matplotlib.pyplot.subplot(1, 1, 1)\n",
    "(data1.apply(sum_dist, axis=1).value_counts()+pandas.Series([0]*21)).fillna(0).sort_index().plot(kind='bar')\n",
    "matplotlib.pyplot.show()"
   ]
  },
  {
   "cell_type": "code",
   "execution_count": 270,
   "metadata": {},
   "outputs": [
    {
     "data": {
      "image/png": "[encoded data removed]",
      "text/plain": [
       "<matplotlib.figure.Figure at 0x21ae0783f60>"
      ]
     },
     "metadata": {},
     "output_type": "display_data"
    }
   ],
   "source": [
    "sum_dist = lambda x:find_distance(x.p1,0,10)+find_distance(x.p2,0,10)+find_distance(x.p3,0,10)+find_distance(x.p4,0,10)\n",
    "matplotlib.pyplot.subplot(1, 1, 1)\n",
    "(data2.apply(sum_dist, axis=1).value_counts()+pandas.Series([0]*21)).fillna(0).sort_index().plot(kind='bar')\n",
    "matplotlib.pyplot.show()"
   ]
  },
  {
   "cell_type": "code",
   "execution_count": 297,
   "metadata": {},
   "outputs": [
    {
     "data": {
      "text/plain": [
       "2.682144064995677"
      ]
     },
     "execution_count": 297,
     "metadata": {},
     "output_type": "execute_result"
    }
   ],
   "source": [
    "#scipy.stats.entropy(data.apply(lambda x: x['p1']*1000+x['p2']*100+x['p3']*10+x['p4'],axis=1).values)"
   ]
  },
  {
   "cell_type": "code",
   "execution_count": null,
   "metadata": {},
   "outputs": [],
   "source": []
  },
  {
   "cell_type": "code",
   "execution_count": null,
   "metadata": {},
   "outputs": [],
   "source": []
  },
  {
   "cell_type": "code",
   "execution_count": null,
   "metadata": {},
   "outputs": [],
   "source": []
  }
 ],
 "metadata": {
  "kernelspec": {
   "display_name": "Python 3",
   "language": "python",
   "name": "python3"
  },
  "language_info": {
   "codemirror_mode": {
    "name": "ipython",
    "version": 3
   },
   "file_extension": ".py",
   "mimetype": "text/x-python",
   "name": "python",
   "nbconvert_exporter": "python",
   "pygments_lexer": "ipython3",
   "version": "3.6.4"
  }
 },
 "nbformat": 4,
 "nbformat_minor": 2
}
